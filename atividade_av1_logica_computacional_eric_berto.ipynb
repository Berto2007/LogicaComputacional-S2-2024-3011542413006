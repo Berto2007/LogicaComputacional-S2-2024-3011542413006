{
 "cells": [
  {
   "cell_type": "code",
   "execution_count": 13,
   "id": "f3c2562e-6ce8-4ad9-9312-6809b0897ccc",
   "metadata": {},
   "outputs": [
    {
     "name": "stdout",
     "output_type": "stream",
     "text": [
      "  p    q    r    s        ((p->q)^(r->s)^(pvr))->(qvs)      \n",
      "  V    V    V    V                     V                    \n",
      "  V    V    V    F                     V                    \n",
      "  V    V    F    V                     V                    \n",
      "  V    V    F    F                     V                    \n",
      "  V    F    V    V                     V                    \n",
      "  V    F    V    F                     V                    \n",
      "  V    F    F    V                     V                    \n",
      "  V    F    F    F                     V                    \n",
      "  F    V    V    V                     V                    \n",
      "  F    V    V    F                     V                    \n",
      "  F    V    F    V                     V                    \n",
      "  F    V    F    F                     V                    \n",
      "  F    F    V    V                     V                    \n",
      "  F    F    V    F                     V                    \n",
      "  F    F    F    V                     V                    \n",
      "  F    F    F    F                     V                    \n"
     ]
    }
   ],
   "source": [
    "import itertools\n",
    "\n",
    "# Definir as operações lógicas\n",
    "def condicional(a, b):\n",
    "    return not a or b  # A implicação 'a → b' é equivalente a '¬a ∨ b'\n",
    "\n",
    "def conjuncao(a, b):\n",
    "    return a and b  # Conjunção lógica\n",
    "\n",
    "def disjuncao(a, b):\n",
    "    return a or b  # Disjunção lógica\n",
    "\n",
    "\n",
    "# Função auxiliar para converter valores booleanos para 'V' (Verdadeiro) e 'F' (Falso)\n",
    "def bool_to_vf(value):\n",
    "    return 'V' if value else 'F'\n",
    "\n",
    "\n",
    "# Cabeçalhos da tabela\n",
    "print(f\"{'p':^5}{'q':^5}{'r':^5}{'s':^5}{'((p->q)^(r->s)^(pvr))->(qvs)':^40}\")\n",
    "\n",
    "# Gerar todas as combinações de valores de verdade (True, False) para p, q, r, s\n",
    "for p, q, r, s in itertools.product([True, False], repeat=4):\n",
    "    # Avaliação das partes da sentença\n",
    "    p_implica_q = condicional(p, q)\n",
    "    r_implica_s = condicional(r, s)\n",
    "    p_ou_r = disjuncao(p, r)\n",
    "    \n",
    "    esquerda = conjuncao(conjuncao(p_implica_q, r_implica_s), p_ou_r)\n",
    "    direita = disjuncao(q, s)\n",
    "    \n",
    "    resultado = condicional(esquerda, direita)\n",
    "    \n",
    "    # Exibir a tabela convertendo booleanos para 'V' (Verdadeiro) e 'F' (Falso)\n",
    "    print(f\"{bool_to_vf(p):^5}{bool_to_vf(q):^5}{bool_to_vf(r):^5}{bool_to_vf(s):^5}{bool_to_vf(resultado):^40}\")\n",
    "\n",
    "#trabalho finalizado"
   ]
  },
  {
   "cell_type": "code",
   "execution_count": null,
   "id": "41c58879-b5a5-4e54-bfd3-a53d2ef66366",
   "metadata": {},
   "outputs": [],
   "source": []
  }
 ],
 "metadata": {
  "kernelspec": {
   "display_name": "Python 3 (ipykernel)",
   "language": "python",
   "name": "python3"
  },
  "language_info": {
   "codemirror_mode": {
    "name": "ipython",
    "version": 3
   },
   "file_extension": ".py",
   "mimetype": "text/x-python",
   "name": "python",
   "nbconvert_exporter": "python",
   "pygments_lexer": "ipython3",
   "version": "3.12.4"
  }
 },
 "nbformat": 4,
 "nbformat_minor": 5
}
